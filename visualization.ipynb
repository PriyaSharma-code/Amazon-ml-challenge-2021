{
 "cells": [
  {
   "cell_type": "code",
   "execution_count": 2,
   "metadata": {},
   "outputs": [],
   "source": [
    "import pandas as pd                        #importing required packages\n",
    "import numpy as np\n",
    "import pylab as pl\n",
    "import seaborn as sns\n",
    "import matplotlib.pyplot as plt\n",
    "%matplotlib inline"
   ]
  },
  {
   "cell_type": "code",
   "execution_count": 6,
   "metadata": {},
   "outputs": [
    {
     "ename": "SyntaxError",
     "evalue": "invalid syntax (<ipython-input-6-b0c01248c33e>, line 2)",
     "output_type": "error",
     "traceback": [
      "\u001b[1;36m  File \u001b[1;32m\"<ipython-input-6-b0c01248c33e>\"\u001b[1;36m, line \u001b[1;32m2\u001b[0m\n\u001b[1;33m    url = \"./train.csv\" , error_bad_lines=False)\u001b[0m\n\u001b[1;37m                                               ^\u001b[0m\n\u001b[1;31mSyntaxError\u001b[0m\u001b[1;31m:\u001b[0m invalid syntax\n"
     ]
    }
   ],
   "source": [
    "# Reading data from remote link\n",
    "url = \"./train.csv\" , error_bad_lines=False)"
   ]
  },
  {
   "cell_type": "code",
   "execution_count": 3,
   "metadata": {},
   "outputs": [
    {
     "data": {
      "text/html": [
       "<div>\n",
       "<style scoped>\n",
       "    .dataframe tbody tr th:only-of-type {\n",
       "        vertical-align: middle;\n",
       "    }\n",
       "\n",
       "    .dataframe tbody tr th {\n",
       "        vertical-align: top;\n",
       "    }\n",
       "\n",
       "    .dataframe thead th {\n",
       "        text-align: right;\n",
       "    }\n",
       "</style>\n",
       "<table border=\"1\" class=\"dataframe\">\n",
       "  <thead>\n",
       "    <tr style=\"text-align: right;\">\n",
       "      <th></th>\n",
       "      <th>TITLE</th>\n",
       "      <th>DESCRIPTION</th>\n",
       "      <th>BULLET_POINTS</th>\n",
       "      <th>BRAND</th>\n",
       "      <th>BROWSE_NODE_ID</th>\n",
       "    </tr>\n",
       "  </thead>\n",
       "  <tbody>\n",
       "    <tr>\n",
       "      <th>71989</th>\n",
       "      <td>Indian Terrain Men's Checkered Slim fit Casual...</td>\n",
       "      <td>NaN</td>\n",
       "      <td>[Color: Burgundy,Material: cotton,Machine wash]</td>\n",
       "      <td>Indian Terrain</td>\n",
       "      <td>1024</td>\n",
       "    </tr>\n",
       "    <tr>\n",
       "      <th>1993127</th>\n",
       "      <td>Aquieen Check 12\" x 4\" Shower Water Drainer Fl...</td>\n",
       "      <td>NaN</td>\n",
       "      <td>[Made for AISI 304 grade so it doesn't corrode...</td>\n",
       "      <td>Aquieen</td>\n",
       "      <td>3193</td>\n",
       "    </tr>\n",
       "    <tr>\n",
       "      <th>708795</th>\n",
       "      <td>Coverage Vintage Leather Flip Cover for Samsun...</td>\n",
       "      <td>This fit for only Samsung Galaxy J4 , NOT FOR ...</td>\n",
       "      <td>[For Model Samsung Galaxy J4 - SM-J400F,Allows...</td>\n",
       "      <td>Coverage</td>\n",
       "      <td>1295</td>\n",
       "    </tr>\n",
       "    <tr>\n",
       "      <th>1490691</th>\n",
       "      <td>Queen Style Light Green 7 Part Women's Cotton ...</td>\n",
       "      <td>&lt;p&gt; Material--100% Cotton &lt;/p&gt; &lt;p&gt; Pattern -- ...</td>\n",
       "      <td>[100% Pure Cotton Highly Durable Fabric,Excell...</td>\n",
       "      <td>Queen Style</td>\n",
       "      <td>4442</td>\n",
       "    </tr>\n",
       "    <tr>\n",
       "      <th>1777234</th>\n",
       "      <td>Kulsum's kaya kalp diamond facial kit 40gm</td>\n",
       "      <td>Diamond Facial Kit by Kulsum’s Kaya Kalp is a ...</td>\n",
       "      <td>[improve skin texture and metabolism,regenerat...</td>\n",
       "      <td>Kulsum's Kaya Kalp</td>\n",
       "      <td>771</td>\n",
       "    </tr>\n",
       "    <tr>\n",
       "      <th>...</th>\n",
       "      <td>...</td>\n",
       "      <td>...</td>\n",
       "      <td>...</td>\n",
       "      <td>...</td>\n",
       "      <td>...</td>\n",
       "    </tr>\n",
       "    <tr>\n",
       "      <th>1471095</th>\n",
       "      <td>New Year Latest Winter Collection Blanket Raja...</td>\n",
       "      <td>This world famous luxurious embossed Korean Mi...</td>\n",
       "      <td>[1 Blanket,Product Dimension (LXB: 87x63 inche...</td>\n",
       "      <td>Great Indian Hub</td>\n",
       "      <td>1138</td>\n",
       "    </tr>\n",
       "    <tr>\n",
       "      <th>2867378</th>\n",
       "      <td>Famacart 100% Cotton Cloth Double Bed Sheet_Pi...</td>\n",
       "      <td>➤Famacart, a brand committed to bring to you t...</td>\n",
       "      <td>[➤Gorgeous Collection of 100% Cotton Double Be...</td>\n",
       "      <td>famacart</td>\n",
       "      <td>6233</td>\n",
       "    </tr>\n",
       "    <tr>\n",
       "      <th>2520344</th>\n",
       "      <td>Samriddhi Imported Artificial Succulents in Lo...</td>\n",
       "      <td>Made up of polyester fabric, these beautiful a...</td>\n",
       "      <td>[Package Contents: Artificial Topiary,Care Ins...</td>\n",
       "      <td>SAMRIDDHI</td>\n",
       "      <td>709</td>\n",
       "    </tr>\n",
       "    <tr>\n",
       "      <th>237624</th>\n",
       "      <td>Holy Basil Shyama Tulsi and Red Amaranthus See...</td>\n",
       "      <td>NaN</td>\n",
       "      <td>[Kitchen garden pack,Branded packing,Home gard...</td>\n",
       "      <td>Airex</td>\n",
       "      <td>1041</td>\n",
       "    </tr>\n",
       "    <tr>\n",
       "      <th>203053</th>\n",
       "      <td>Women's Floral Print Lycra Blend Saree JB ENTE...</td>\n",
       "      <td>Our Printed Saree will be a perfect addition t...</td>\n",
       "      <td>[Saree Fabric Lycra Blend: , Blouse Fabric: Ly...</td>\n",
       "      <td>JB ENTERPRISE</td>\n",
       "      <td>1052</td>\n",
       "    </tr>\n",
       "  </tbody>\n",
       "</table>\n",
       "<p>1000 rows × 5 columns</p>\n",
       "</div>"
      ],
      "text/plain": [
       "                                                     TITLE  \\\n",
       "71989    Indian Terrain Men's Checkered Slim fit Casual...   \n",
       "1993127  Aquieen Check 12\" x 4\" Shower Water Drainer Fl...   \n",
       "708795   Coverage Vintage Leather Flip Cover for Samsun...   \n",
       "1490691  Queen Style Light Green 7 Part Women's Cotton ...   \n",
       "1777234         Kulsum's kaya kalp diamond facial kit 40gm   \n",
       "...                                                    ...   \n",
       "1471095  New Year Latest Winter Collection Blanket Raja...   \n",
       "2867378  Famacart 100% Cotton Cloth Double Bed Sheet_Pi...   \n",
       "2520344  Samriddhi Imported Artificial Succulents in Lo...   \n",
       "237624   Holy Basil Shyama Tulsi and Red Amaranthus See...   \n",
       "203053   Women's Floral Print Lycra Blend Saree JB ENTE...   \n",
       "\n",
       "                                               DESCRIPTION  \\\n",
       "71989                                                  NaN   \n",
       "1993127                                                NaN   \n",
       "708795   This fit for only Samsung Galaxy J4 , NOT FOR ...   \n",
       "1490691  <p> Material--100% Cotton </p> <p> Pattern -- ...   \n",
       "1777234  Diamond Facial Kit by Kulsum’s Kaya Kalp is a ...   \n",
       "...                                                    ...   \n",
       "1471095  This world famous luxurious embossed Korean Mi...   \n",
       "2867378  ➤Famacart, a brand committed to bring to you t...   \n",
       "2520344  Made up of polyester fabric, these beautiful a...   \n",
       "237624                                                 NaN   \n",
       "203053   Our Printed Saree will be a perfect addition t...   \n",
       "\n",
       "                                             BULLET_POINTS  \\\n",
       "71989      [Color: Burgundy,Material: cotton,Machine wash]   \n",
       "1993127  [Made for AISI 304 grade so it doesn't corrode...   \n",
       "708795   [For Model Samsung Galaxy J4 - SM-J400F,Allows...   \n",
       "1490691  [100% Pure Cotton Highly Durable Fabric,Excell...   \n",
       "1777234  [improve skin texture and metabolism,regenerat...   \n",
       "...                                                    ...   \n",
       "1471095  [1 Blanket,Product Dimension (LXB: 87x63 inche...   \n",
       "2867378  [➤Gorgeous Collection of 100% Cotton Double Be...   \n",
       "2520344  [Package Contents: Artificial Topiary,Care Ins...   \n",
       "237624   [Kitchen garden pack,Branded packing,Home gard...   \n",
       "203053   [Saree Fabric Lycra Blend: , Blouse Fabric: Ly...   \n",
       "\n",
       "                      BRAND  BROWSE_NODE_ID  \n",
       "71989        Indian Terrain            1024  \n",
       "1993127             Aquieen            3193  \n",
       "708795             Coverage            1295  \n",
       "1490691         Queen Style            4442  \n",
       "1777234  Kulsum's Kaya Kalp             771  \n",
       "...                     ...             ...  \n",
       "1471095    Great Indian Hub            1138  \n",
       "2867378            famacart            6233  \n",
       "2520344           SAMRIDDHI             709  \n",
       "237624                Airex            1041  \n",
       "203053        JB ENTERPRISE            1052  \n",
       "\n",
       "[1000 rows x 5 columns]"
      ]
     },
     "execution_count": 3,
     "metadata": {},
     "output_type": "execute_result"
    }
   ],
   "source": [
    "import csv\n",
    "df = pd.read_csv('./train.csv' , quoting =csv.QUOTE_NONE, escapechar=\"\\\\\") #loading the dataset\n",
    "df.sample(n=1000, random_state=0)"
   ]
  },
  {
   "cell_type": "code",
   "execution_count": 4,
   "metadata": {},
   "outputs": [
    {
     "data": {
      "text/html": [
       "<div>\n",
       "<style scoped>\n",
       "    .dataframe tbody tr th:only-of-type {\n",
       "        vertical-align: middle;\n",
       "    }\n",
       "\n",
       "    .dataframe tbody tr th {\n",
       "        vertical-align: top;\n",
       "    }\n",
       "\n",
       "    .dataframe thead th {\n",
       "        text-align: right;\n",
       "    }\n",
       "</style>\n",
       "<table border=\"1\" class=\"dataframe\">\n",
       "  <thead>\n",
       "    <tr style=\"text-align: right;\">\n",
       "      <th></th>\n",
       "      <th>TITLE</th>\n",
       "      <th>DESCRIPTION</th>\n",
       "      <th>BULLET_POINTS</th>\n",
       "      <th>BRAND</th>\n",
       "      <th>BROWSE_NODE_ID</th>\n",
       "    </tr>\n",
       "  </thead>\n",
       "  <tbody>\n",
       "    <tr>\n",
       "      <th>0</th>\n",
       "      <td>Pete The Cat Bedtime Blues Doll, 14.5 Inch</td>\n",
       "      <td>Pete the Cat is the coolest, most popular cat ...</td>\n",
       "      <td>[Pete the Cat Bedtime Blues plush doll,Based o...</td>\n",
       "      <td>MerryMakers</td>\n",
       "      <td>0</td>\n",
       "    </tr>\n",
       "    <tr>\n",
       "      <th>1</th>\n",
       "      <td>The New Yorker NYHM014 Refrigerator Magnet, 2 ...</td>\n",
       "      <td>The New Yorker Handsome Cello Wrapped Hard Mag...</td>\n",
       "      <td>[Cat In A Tea Cup by New Yorker cover artist G...</td>\n",
       "      <td>The New Yorker</td>\n",
       "      <td>1</td>\n",
       "    </tr>\n",
       "    <tr>\n",
       "      <th>2</th>\n",
       "      <td>The Ultimate Self-Sufficiency Handbook: A Comp...</td>\n",
       "      <td>NaN</td>\n",
       "      <td>Skyhorse Publishing</td>\n",
       "      <td>imusti</td>\n",
       "      <td>2</td>\n",
       "    </tr>\n",
       "    <tr>\n",
       "      <th>3</th>\n",
       "      <td>Amway Nutrilite Kids Chewable Iron Tablets (100)</td>\n",
       "      <td>NaN</td>\n",
       "      <td>[Nutrilite Kids,Chewable Iron Tablets,Quantity...</td>\n",
       "      <td>Amway</td>\n",
       "      <td>3</td>\n",
       "    </tr>\n",
       "    <tr>\n",
       "      <th>4</th>\n",
       "      <td>Teacher Planner Company A4 6 Lesson Academic T...</td>\n",
       "      <td>NaN</td>\n",
       "      <td>NaN</td>\n",
       "      <td>NaN</td>\n",
       "      <td>4</td>\n",
       "    </tr>\n",
       "  </tbody>\n",
       "</table>\n",
       "</div>"
      ],
      "text/plain": [
       "                                               TITLE  \\\n",
       "0         Pete The Cat Bedtime Blues Doll, 14.5 Inch   \n",
       "1  The New Yorker NYHM014 Refrigerator Magnet, 2 ...   \n",
       "2  The Ultimate Self-Sufficiency Handbook: A Comp...   \n",
       "3   Amway Nutrilite Kids Chewable Iron Tablets (100)   \n",
       "4  Teacher Planner Company A4 6 Lesson Academic T...   \n",
       "\n",
       "                                         DESCRIPTION  \\\n",
       "0  Pete the Cat is the coolest, most popular cat ...   \n",
       "1  The New Yorker Handsome Cello Wrapped Hard Mag...   \n",
       "2                                                NaN   \n",
       "3                                                NaN   \n",
       "4                                                NaN   \n",
       "\n",
       "                                       BULLET_POINTS           BRAND  \\\n",
       "0  [Pete the Cat Bedtime Blues plush doll,Based o...     MerryMakers   \n",
       "1  [Cat In A Tea Cup by New Yorker cover artist G...  The New Yorker   \n",
       "2                                Skyhorse Publishing          imusti   \n",
       "3  [Nutrilite Kids,Chewable Iron Tablets,Quantity...           Amway   \n",
       "4                                                NaN             NaN   \n",
       "\n",
       "   BROWSE_NODE_ID  \n",
       "0               0  \n",
       "1               1  \n",
       "2               2  \n",
       "3               3  \n",
       "4               4  "
      ]
     },
     "execution_count": 4,
     "metadata": {},
     "output_type": "execute_result"
    }
   ],
   "source": [
    "df.head()"
   ]
  },
  {
   "cell_type": "code",
   "execution_count": 16,
   "metadata": {},
   "outputs": [
    {
     "data": {
      "text/html": [
       "<div>\n",
       "<style scoped>\n",
       "    .dataframe tbody tr th:only-of-type {\n",
       "        vertical-align: middle;\n",
       "    }\n",
       "\n",
       "    .dataframe tbody tr th {\n",
       "        vertical-align: top;\n",
       "    }\n",
       "\n",
       "    .dataframe thead th {\n",
       "        text-align: right;\n",
       "    }\n",
       "</style>\n",
       "<table border=\"1\" class=\"dataframe\">\n",
       "  <thead>\n",
       "    <tr style=\"text-align: right;\">\n",
       "      <th></th>\n",
       "      <th>TITLE</th>\n",
       "      <th>DESCRIPTION</th>\n",
       "      <th>BULLET_POINTS</th>\n",
       "      <th>BRAND</th>\n",
       "      <th>BROWSE_NODE_ID</th>\n",
       "    </tr>\n",
       "  </thead>\n",
       "  <tbody>\n",
       "    <tr>\n",
       "      <th>2903019</th>\n",
       "      <td>Premium Aviator Sunglasses - HD Polarized (Bri...</td>\n",
       "      <td>These premium Aviator Sunglasses with 5 color ...</td>\n",
       "      <td>[Frame size: Lens height - 56mm, Lens width - ...</td>\n",
       "      <td>Generic</td>\n",
       "      <td>1040</td>\n",
       "    </tr>\n",
       "    <tr>\n",
       "      <th>2903020</th>\n",
       "      <td>Social Distance Stickers - Set of 5 Sticker Sl...</td>\n",
       "      <td>set of 5 prints social distancing sticker self...</td>\n",
       "      <td>[covid19 safety sticker - set of 5 to maintain...</td>\n",
       "      <td>Generic</td>\n",
       "      <td>15199</td>\n",
       "    </tr>\n",
       "    <tr>\n",
       "      <th>2903021</th>\n",
       "      <td>Torr-to Face Shield PACK OF 5 with Adjustable ...</td>\n",
       "      <td>* COMPLETE FACE PROTECTION: Torr-to Face Shiel...</td>\n",
       "      <td>[350 MICRONS PACK OF 5 PCS,COMPLETE FACE PROTE...</td>\n",
       "      <td>TORR-TO</td>\n",
       "      <td>1044933</td>\n",
       "    </tr>\n",
       "    <tr>\n",
       "      <th>2903022</th>\n",
       "      <td>Type-C to 3.5 MM for Oppo R17 Pro Type-C to 3....</td>\n",
       "      <td>Still want to use your favorite earphones/head...</td>\n",
       "      <td>[Indian Connectors: Made for Indian sockets, t...</td>\n",
       "      <td>SHOPBELL</td>\n",
       "      <td>14790</td>\n",
       "    </tr>\n",
       "    <tr>\n",
       "      <th>2903023</th>\n",
       "      <td>KNG Orange Polo Tshirt (38)</td>\n",
       "      <td>Performance inspired by comfort. The polo shir...</td>\n",
       "      <td>NaN</td>\n",
       "      <td>KNG</td>\n",
       "      <td>1213</td>\n",
       "    </tr>\n",
       "  </tbody>\n",
       "</table>\n",
       "</div>"
      ],
      "text/plain": [
       "                                                     TITLE  \\\n",
       "2903019  Premium Aviator Sunglasses - HD Polarized (Bri...   \n",
       "2903020  Social Distance Stickers - Set of 5 Sticker Sl...   \n",
       "2903021  Torr-to Face Shield PACK OF 5 with Adjustable ...   \n",
       "2903022  Type-C to 3.5 MM for Oppo R17 Pro Type-C to 3....   \n",
       "2903023                        KNG Orange Polo Tshirt (38)   \n",
       "\n",
       "                                               DESCRIPTION  \\\n",
       "2903019  These premium Aviator Sunglasses with 5 color ...   \n",
       "2903020  set of 5 prints social distancing sticker self...   \n",
       "2903021  * COMPLETE FACE PROTECTION: Torr-to Face Shiel...   \n",
       "2903022  Still want to use your favorite earphones/head...   \n",
       "2903023  Performance inspired by comfort. The polo shir...   \n",
       "\n",
       "                                             BULLET_POINTS     BRAND  \\\n",
       "2903019  [Frame size: Lens height - 56mm, Lens width - ...   Generic   \n",
       "2903020  [covid19 safety sticker - set of 5 to maintain...   Generic   \n",
       "2903021  [350 MICRONS PACK OF 5 PCS,COMPLETE FACE PROTE...   TORR-TO   \n",
       "2903022  [Indian Connectors: Made for Indian sockets, t...  SHOPBELL   \n",
       "2903023                                                NaN       KNG   \n",
       "\n",
       "         BROWSE_NODE_ID  \n",
       "2903019            1040  \n",
       "2903020           15199  \n",
       "2903021         1044933  \n",
       "2903022           14790  \n",
       "2903023            1213  "
      ]
     },
     "execution_count": 16,
     "metadata": {},
     "output_type": "execute_result"
    }
   ],
   "source": [
    "df.tail()"
   ]
  },
  {
   "cell_type": "code",
   "execution_count": 17,
   "metadata": {},
   "outputs": [
    {
     "data": {
      "text/html": [
       "<div>\n",
       "<style scoped>\n",
       "    .dataframe tbody tr th:only-of-type {\n",
       "        vertical-align: middle;\n",
       "    }\n",
       "\n",
       "    .dataframe tbody tr th {\n",
       "        vertical-align: top;\n",
       "    }\n",
       "\n",
       "    .dataframe thead th {\n",
       "        text-align: right;\n",
       "    }\n",
       "</style>\n",
       "<table border=\"1\" class=\"dataframe\">\n",
       "  <thead>\n",
       "    <tr style=\"text-align: right;\">\n",
       "      <th></th>\n",
       "      <th>TITLE</th>\n",
       "      <th>DESCRIPTION</th>\n",
       "      <th>BULLET_POINTS</th>\n",
       "      <th>BRAND</th>\n",
       "      <th>BROWSE_NODE_ID</th>\n",
       "    </tr>\n",
       "  </thead>\n",
       "  <tbody>\n",
       "    <tr>\n",
       "      <th>1101796</th>\n",
       "      <td>CGS FASHION Women's Silk Saree with Blouse Pie...</td>\n",
       "      <td>&lt;br&gt;✔ This Saree is by &lt;b&gt;CGS FASHION&lt;/b&gt;. &lt;/b...</td>\n",
       "      <td>[★ Product Material :- Silk,★ Color :- Blue,★ ...</td>\n",
       "      <td>Generic</td>\n",
       "      <td>1052</td>\n",
       "    </tr>\n",
       "    <tr>\n",
       "      <th>2361191</th>\n",
       "      <td>Puma Men's Regular fit Polo</td>\n",
       "      <td>NaN</td>\n",
       "      <td>[Color: Mercedes Team Silver,Main Material 1: ...</td>\n",
       "      <td>Puma</td>\n",
       "      <td>1213</td>\n",
       "    </tr>\n",
       "    <tr>\n",
       "      <th>579156</th>\n",
       "      <td>Impression hut® Heavy Fabric Elegant Ringtop P...</td>\n",
       "      <td>Impression Hut is Specialist Curtain Makers. T...</td>\n",
       "      <td>[Color: Blue, Pattern: Modern, Size Name: Long...</td>\n",
       "      <td>Impression Hut</td>\n",
       "      <td>739</td>\n",
       "    </tr>\n",
       "    <tr>\n",
       "      <th>2617100</th>\n",
       "      <td>BEPS Stylish &amp; Fashionable Suede &amp; Patent Ankl...</td>\n",
       "      <td>BEPS Presents to You Elegant and Quality Footw...</td>\n",
       "      <td>[Buy only from BEPS to Get Quality and Authent...</td>\n",
       "      <td>BEPS</td>\n",
       "      <td>197</td>\n",
       "    </tr>\n",
       "    <tr>\n",
       "      <th>1460247</th>\n",
       "      <td>Unique Indian Crafts Handmade Work Multi- Colo...</td>\n",
       "      <td>Unique Indian Crafts Easy to wear, light in we...</td>\n",
       "      <td>[Hand made banana clip,Durable, bright colors,...</td>\n",
       "      <td>Unique Indian Crafts</td>\n",
       "      <td>511</td>\n",
       "    </tr>\n",
       "  </tbody>\n",
       "</table>\n",
       "</div>"
      ],
      "text/plain": [
       "                                                     TITLE  \\\n",
       "1101796  CGS FASHION Women's Silk Saree with Blouse Pie...   \n",
       "2361191                        Puma Men's Regular fit Polo   \n",
       "579156   Impression hut® Heavy Fabric Elegant Ringtop P...   \n",
       "2617100  BEPS Stylish & Fashionable Suede & Patent Ankl...   \n",
       "1460247  Unique Indian Crafts Handmade Work Multi- Colo...   \n",
       "\n",
       "                                               DESCRIPTION  \\\n",
       "1101796  <br>✔ This Saree is by <b>CGS FASHION</b>. </b...   \n",
       "2361191                                                NaN   \n",
       "579156   Impression Hut is Specialist Curtain Makers. T...   \n",
       "2617100  BEPS Presents to You Elegant and Quality Footw...   \n",
       "1460247  Unique Indian Crafts Easy to wear, light in we...   \n",
       "\n",
       "                                             BULLET_POINTS  \\\n",
       "1101796  [★ Product Material :- Silk,★ Color :- Blue,★ ...   \n",
       "2361191  [Color: Mercedes Team Silver,Main Material 1: ...   \n",
       "579156   [Color: Blue, Pattern: Modern, Size Name: Long...   \n",
       "2617100  [Buy only from BEPS to Get Quality and Authent...   \n",
       "1460247  [Hand made banana clip,Durable, bright colors,...   \n",
       "\n",
       "                        BRAND  BROWSE_NODE_ID  \n",
       "1101796               Generic            1052  \n",
       "2361191                  Puma            1213  \n",
       "579156         Impression Hut             739  \n",
       "2617100                  BEPS             197  \n",
       "1460247  Unique Indian Crafts             511  "
      ]
     },
     "execution_count": 17,
     "metadata": {},
     "output_type": "execute_result"
    }
   ],
   "source": [
    "df.sample(5) "
   ]
  },
  {
   "cell_type": "code",
   "execution_count": 5,
   "metadata": {},
   "outputs": [
    {
     "data": {
      "text/plain": [
       "TITLE                 71\n",
       "DESCRIPTION       723664\n",
       "BULLET_POINTS     166263\n",
       "BRAND              56737\n",
       "BROWSE_NODE_ID         0\n",
       "dtype: int64"
      ]
     },
     "execution_count": 5,
     "metadata": {},
     "output_type": "execute_result"
    }
   ],
   "source": [
    "df.isnull().sum()    #checking for null values"
   ]
  },
  {
   "cell_type": "code",
   "execution_count": 6,
   "metadata": {},
   "outputs": [
    {
     "name": "stdout",
     "output_type": "stream",
     "text": [
      "(2903024, 5)\n"
     ]
    }
   ],
   "source": [
    "print(df.shape)      #viewing dimensions of dataset"
   ]
  },
  {
   "cell_type": "code",
   "execution_count": 20,
   "metadata": {},
   "outputs": [
    {
     "name": "stdout",
     "output_type": "stream",
     "text": [
      "       BROWSE_NODE_ID\n",
      "count    2.903024e+06\n",
      "mean     9.211321e+03\n",
      "std      5.606280e+04\n",
      "min      0.000000e+00\n",
      "25%      7.000000e+02\n",
      "50%      1.072000e+03\n",
      "75%      2.546000e+03\n",
      "max      2.893574e+06\n"
     ]
    }
   ],
   "source": [
    "print(df.describe())   #details of the dataset"
   ]
  },
  {
   "cell_type": "code",
   "execution_count": null,
   "metadata": {},
   "outputs": [],
   "source": [
    "plt.scatter(df.TITLE, df.BRAND, color='blue')     #scatter plot\n",
    "plt.xlabel(\"TITLE\")\n",
    "plt.ylabel(\"BRAND\")\n",
    "plt.show()"
   ]
  },
  {
   "cell_type": "code",
   "execution_count": null,
   "metadata": {},
   "outputs": [],
   "source": [
    "# 2D KDE plot\n",
    "sns.jointplot(x=df['Hours'], y=df['Scores'], kind=\"kde\")"
   ]
  },
  {
   "cell_type": "code",
   "execution_count": null,
   "metadata": {},
   "outputs": [],
   "source": [
    "sns.lineplot(data=df) ## Line chart showing how marks evolved over time "
   ]
  },
  {
   "cell_type": "code",
   "execution_count": null,
   "metadata": {},
   "outputs": [],
   "source": [
    "sns.pairplot(df)"
   ]
  },
  {
   "cell_type": "code",
   "execution_count": null,
   "metadata": {},
   "outputs": [],
   "source": [
    "# Bar chart showing the scores of students vs hours they put in\n",
    "sns.barplot(x=df[\"Hours\"], y=df[\"Scores\"])\n",
    "\n",
    "# Add label for vertical axis\n",
    "plt.xlabel(\"Scores after studying\")\n",
    "\n",
    "# Add label for vertical axis\n",
    "plt.ylabel(\"Hours\")\n"
   ]
  },
  {
   "cell_type": "code",
   "execution_count": null,
   "metadata": {},
   "outputs": [],
   "source": [
    "plt.figure(figsize=(10,4))           #heat map\n",
    "sns.heatmap(df.corr(),annot=True,cmap=\"cubehelix_r\")\n",
    "plt.show()"
   ]
  },
  {
   "cell_type": "code",
   "execution_count": null,
   "metadata": {},
   "outputs": [],
   "source": [
    "plt.scatter( matches_df.win_by_runs,matches_df.team1, color='blue')     #scatter plot\n",
    "plt.ylabel(\"team1\")\n",
    "plt.xlabel(\"win_by_runs\")\n",
    "plt.show()"
   ]
  },
  {
   "cell_type": "code",
   "execution_count": null,
   "metadata": {},
   "outputs": [],
   "source": [
    "plt.figure(figsize=(12,6))\n",
    "sns.countplot(x='season', data=matches_df)\n",
    "plt.show()"
   ]
  },
  {
   "cell_type": "code",
   "execution_count": null,
   "metadata": {},
   "outputs": [],
   "source": [
    "#sns.barplot(x=\"day\", y=\"total_bill\", data=df)\n",
    "fig, ax = plt.subplots(figsize=(14,8))\n",
    "ax.set_ylim([0,20])\n",
    "ax.set_ylabel(\"Count\")\n",
    "ax.set_title(\"Top player of the match Winners\")\n",
    "top_players.plot.bar()\n",
    "sns.barplot(x = top_players.index, y = top_players, orient='v', palette=\"Blues\");\n",
    "plt.show()"
   ]
  },
  {
   "cell_type": "code",
   "execution_count": null,
   "metadata": {},
   "outputs": [],
   "source": [
    "plt.figure(figsize=(12,6))\n",
    "sns.countplot(x='venue', data=matches_df)\n",
    "plt.xticks(rotation='vertical')\n",
    "plt.show()"
   ]
  },
  {
   "cell_type": "code",
   "execution_count": null,
   "metadata": {},
   "outputs": [],
   "source": [
    "labels = (np.array(temp_series.index))\n",
    "sizes = (np.array((temp_series / temp_series.sum())*100))\n",
    "colors = ['gold', 'lightskyblue']\n",
    "plt.pie(sizes, labels=labels, colors=colors,\n",
    "        autopct='%1.1f%%', shadow=True, startangle=90)\n",
    "plt.title(\"Toss decision percentage\")\n",
    "plt.show()"
   ]
  },
  {
   "cell_type": "code",
   "execution_count": null,
   "metadata": {},
   "outputs": [],
   "source": [
    "plt.figure(figsize=(12,6))\n",
    "sns.countplot(x='season', hue='toss_decision', data=matches_df)\n",
    "plt.xticks(rotation='vertical')\n",
    "plt.show()"
   ]
  },
  {
   "cell_type": "code",
   "execution_count": null,
   "metadata": {},
   "outputs": [],
   "source": []
  },
  {
   "cell_type": "code",
   "execution_count": null,
   "metadata": {},
   "outputs": [],
   "source": []
  },
  {
   "cell_type": "code",
   "execution_count": 24,
   "metadata": {},
   "outputs": [],
   "source": []
  },
  {
   "cell_type": "code",
   "execution_count": 4,
   "metadata": {},
   "outputs": [
    {
     "name": "stdout",
     "output_type": "stream",
     "text": [
      "(2903024, 5)\n"
     ]
    }
   ],
   "source": [
    "print(df.shape) "
   ]
  },
  {
   "cell_type": "code",
   "execution_count": 5,
   "metadata": {},
   "outputs": [],
   "source": [
    "df.dropna(subset=['TITLE'], inplace= True)"
   ]
  },
  {
   "cell_type": "code",
   "execution_count": 6,
   "metadata": {},
   "outputs": [
    {
     "name": "stdout",
     "output_type": "stream",
     "text": [
      "(2902953, 5)\n"
     ]
    }
   ],
   "source": [
    "print(df.shape) "
   ]
  },
  {
   "cell_type": "code",
   "execution_count": 7,
   "metadata": {},
   "outputs": [],
   "source": [
    "df.dropna(subset=['DESCRIPTION'], inplace= True)"
   ]
  },
  {
   "cell_type": "code",
   "execution_count": 8,
   "metadata": {},
   "outputs": [
    {
     "name": "stdout",
     "output_type": "stream",
     "text": [
      "(2179303, 5)\n"
     ]
    }
   ],
   "source": [
    "print(df.shape)"
   ]
  },
  {
   "cell_type": "code",
   "execution_count": 9,
   "metadata": {},
   "outputs": [],
   "source": [
    "df.dropna(subset=['BRAND'], inplace= True)"
   ]
  },
  {
   "cell_type": "code",
   "execution_count": 10,
   "metadata": {},
   "outputs": [
    {
     "name": "stdout",
     "output_type": "stream",
     "text": [
      "(2170734, 5)\n"
     ]
    }
   ],
   "source": [
    "print(df.shape)"
   ]
  },
  {
   "cell_type": "code",
   "execution_count": 11,
   "metadata": {},
   "outputs": [],
   "source": [
    "df.dropna(subset=['BULLET_POINTS'], inplace= True)"
   ]
  },
  {
   "cell_type": "code",
   "execution_count": 12,
   "metadata": {},
   "outputs": [
    {
     "name": "stdout",
     "output_type": "stream",
     "text": [
      "(2110586, 5)\n"
     ]
    }
   ],
   "source": [
    "print(df.shape)"
   ]
  },
  {
   "cell_type": "code",
   "execution_count": 13,
   "metadata": {},
   "outputs": [],
   "source": [
    "modifiedDF= df.dropna()"
   ]
  },
  {
   "cell_type": "code",
   "execution_count": 14,
   "metadata": {},
   "outputs": [
    {
     "name": "stdout",
     "output_type": "stream",
     "text": [
      "(2110586, 5)\n"
     ]
    }
   ],
   "source": [
    "print(modifiedDF.shape)  "
   ]
  },
  {
   "cell_type": "code",
   "execution_count": 7,
   "metadata": {},
   "outputs": [
    {
     "data": {
      "text/plain": [
       "TITLE                 71\n",
       "DESCRIPTION       723664\n",
       "BULLET_POINTS     166263\n",
       "BRAND              56737\n",
       "BROWSE_NODE_ID         0\n",
       "dtype: int64"
      ]
     },
     "execution_count": 7,
     "metadata": {},
     "output_type": "execute_result"
    }
   ],
   "source": [
    "df.isnull().sum()    #checking for null values"
   ]
  },
  {
   "cell_type": "code",
   "execution_count": 8,
   "metadata": {},
   "outputs": [],
   "source": [
    "def remove_punctuations(text):\n",
    "    for punctuation in string.punctuation:\n",
    "        text = text.replace(punctuation, '')\n",
    "    return text"
   ]
  },
  {
   "cell_type": "code",
   "execution_count": 9,
   "metadata": {},
   "outputs": [
    {
     "ename": "NameError",
     "evalue": "name 'string' is not defined",
     "output_type": "error",
     "traceback": [
      "\u001b[1;31m---------------------------------------------------------------------------\u001b[0m",
      "\u001b[1;31mNameError\u001b[0m                                 Traceback (most recent call last)",
      "\u001b[1;32m<ipython-input-9-fc10ac123f05>\u001b[0m in \u001b[0;36m<module>\u001b[1;34m\u001b[0m\n\u001b[1;32m----> 1\u001b[1;33m \u001b[0mdf\u001b[0m\u001b[1;33m[\u001b[0m\u001b[1;34m\"TITLE\"\u001b[0m\u001b[1;33m]\u001b[0m \u001b[1;33m=\u001b[0m \u001b[0mdf\u001b[0m\u001b[1;33m[\u001b[0m\u001b[1;34m'TITLE'\u001b[0m\u001b[1;33m]\u001b[0m\u001b[1;33m.\u001b[0m\u001b[0mapply\u001b[0m\u001b[1;33m(\u001b[0m\u001b[0mremove_punctuations\u001b[0m\u001b[1;33m)\u001b[0m\u001b[1;33m\u001b[0m\u001b[1;33m\u001b[0m\u001b[0m\n\u001b[0m",
      "\u001b[1;32m~\\anaconda3\\lib\\site-packages\\pandas\\core\\series.py\u001b[0m in \u001b[0;36mapply\u001b[1;34m(self, func, convert_dtype, args, **kwds)\u001b[0m\n\u001b[0;32m   3846\u001b[0m             \u001b[1;32melse\u001b[0m\u001b[1;33m:\u001b[0m\u001b[1;33m\u001b[0m\u001b[1;33m\u001b[0m\u001b[0m\n\u001b[0;32m   3847\u001b[0m                 \u001b[0mvalues\u001b[0m \u001b[1;33m=\u001b[0m \u001b[0mself\u001b[0m\u001b[1;33m.\u001b[0m\u001b[0mastype\u001b[0m\u001b[1;33m(\u001b[0m\u001b[0mobject\u001b[0m\u001b[1;33m)\u001b[0m\u001b[1;33m.\u001b[0m\u001b[0mvalues\u001b[0m\u001b[1;33m\u001b[0m\u001b[1;33m\u001b[0m\u001b[0m\n\u001b[1;32m-> 3848\u001b[1;33m                 \u001b[0mmapped\u001b[0m \u001b[1;33m=\u001b[0m \u001b[0mlib\u001b[0m\u001b[1;33m.\u001b[0m\u001b[0mmap_infer\u001b[0m\u001b[1;33m(\u001b[0m\u001b[0mvalues\u001b[0m\u001b[1;33m,\u001b[0m \u001b[0mf\u001b[0m\u001b[1;33m,\u001b[0m \u001b[0mconvert\u001b[0m\u001b[1;33m=\u001b[0m\u001b[0mconvert_dtype\u001b[0m\u001b[1;33m)\u001b[0m\u001b[1;33m\u001b[0m\u001b[1;33m\u001b[0m\u001b[0m\n\u001b[0m\u001b[0;32m   3849\u001b[0m \u001b[1;33m\u001b[0m\u001b[0m\n\u001b[0;32m   3850\u001b[0m         \u001b[1;32mif\u001b[0m \u001b[0mlen\u001b[0m\u001b[1;33m(\u001b[0m\u001b[0mmapped\u001b[0m\u001b[1;33m)\u001b[0m \u001b[1;32mand\u001b[0m \u001b[0misinstance\u001b[0m\u001b[1;33m(\u001b[0m\u001b[0mmapped\u001b[0m\u001b[1;33m[\u001b[0m\u001b[1;36m0\u001b[0m\u001b[1;33m]\u001b[0m\u001b[1;33m,\u001b[0m \u001b[0mSeries\u001b[0m\u001b[1;33m)\u001b[0m\u001b[1;33m:\u001b[0m\u001b[1;33m\u001b[0m\u001b[1;33m\u001b[0m\u001b[0m\n",
      "\u001b[1;32mpandas\\_libs\\lib.pyx\u001b[0m in \u001b[0;36mpandas._libs.lib.map_infer\u001b[1;34m()\u001b[0m\n",
      "\u001b[1;32m<ipython-input-8-020e2ddf802b>\u001b[0m in \u001b[0;36mremove_punctuations\u001b[1;34m(text)\u001b[0m\n\u001b[0;32m      1\u001b[0m \u001b[1;32mdef\u001b[0m \u001b[0mremove_punctuations\u001b[0m\u001b[1;33m(\u001b[0m\u001b[0mtext\u001b[0m\u001b[1;33m)\u001b[0m\u001b[1;33m:\u001b[0m\u001b[1;33m\u001b[0m\u001b[1;33m\u001b[0m\u001b[0m\n\u001b[1;32m----> 2\u001b[1;33m     \u001b[1;32mfor\u001b[0m \u001b[0mpunctuation\u001b[0m \u001b[1;32min\u001b[0m \u001b[0mstring\u001b[0m\u001b[1;33m.\u001b[0m\u001b[0mpunctuation\u001b[0m\u001b[1;33m:\u001b[0m\u001b[1;33m\u001b[0m\u001b[1;33m\u001b[0m\u001b[0m\n\u001b[0m\u001b[0;32m      3\u001b[0m         \u001b[0mtext\u001b[0m \u001b[1;33m=\u001b[0m \u001b[0mtext\u001b[0m\u001b[1;33m.\u001b[0m\u001b[0mreplace\u001b[0m\u001b[1;33m(\u001b[0m\u001b[0mpunctuation\u001b[0m\u001b[1;33m,\u001b[0m \u001b[1;34m''\u001b[0m\u001b[1;33m)\u001b[0m\u001b[1;33m\u001b[0m\u001b[1;33m\u001b[0m\u001b[0m\n\u001b[0;32m      4\u001b[0m     \u001b[1;32mreturn\u001b[0m \u001b[0mtext\u001b[0m\u001b[1;33m\u001b[0m\u001b[1;33m\u001b[0m\u001b[0m\n",
      "\u001b[1;31mNameError\u001b[0m: name 'string' is not defined"
     ]
    }
   ],
   "source": [
    "df[\"TITLE\"] = df['TITLE'].apply(remove_punctuations)"
   ]
  },
  {
   "cell_type": "code",
   "execution_count": 10,
   "metadata": {},
   "outputs": [
    {
     "ename": "NameError",
     "evalue": "name 'string' is not defined",
     "output_type": "error",
     "traceback": [
      "\u001b[1;31m---------------------------------------------------------------------------\u001b[0m",
      "\u001b[1;31mNameError\u001b[0m                                 Traceback (most recent call last)",
      "\u001b[1;32m<ipython-input-10-a4bf877712b8>\u001b[0m in \u001b[0;36m<module>\u001b[1;34m\u001b[0m\n\u001b[1;32m----> 1\u001b[1;33m \u001b[0mdf\u001b[0m\u001b[1;33m[\u001b[0m\u001b[1;34m\"DESCRIPTION\"\u001b[0m\u001b[1;33m]\u001b[0m \u001b[1;33m=\u001b[0m \u001b[0mdf\u001b[0m\u001b[1;33m[\u001b[0m\u001b[1;34m'DESCRIPTION'\u001b[0m\u001b[1;33m]\u001b[0m\u001b[1;33m.\u001b[0m\u001b[0mapply\u001b[0m\u001b[1;33m(\u001b[0m\u001b[0mremove_punctuations\u001b[0m\u001b[1;33m)\u001b[0m\u001b[1;33m\u001b[0m\u001b[1;33m\u001b[0m\u001b[0m\n\u001b[0m",
      "\u001b[1;32m~\\anaconda3\\lib\\site-packages\\pandas\\core\\series.py\u001b[0m in \u001b[0;36mapply\u001b[1;34m(self, func, convert_dtype, args, **kwds)\u001b[0m\n\u001b[0;32m   3846\u001b[0m             \u001b[1;32melse\u001b[0m\u001b[1;33m:\u001b[0m\u001b[1;33m\u001b[0m\u001b[1;33m\u001b[0m\u001b[0m\n\u001b[0;32m   3847\u001b[0m                 \u001b[0mvalues\u001b[0m \u001b[1;33m=\u001b[0m \u001b[0mself\u001b[0m\u001b[1;33m.\u001b[0m\u001b[0mastype\u001b[0m\u001b[1;33m(\u001b[0m\u001b[0mobject\u001b[0m\u001b[1;33m)\u001b[0m\u001b[1;33m.\u001b[0m\u001b[0mvalues\u001b[0m\u001b[1;33m\u001b[0m\u001b[1;33m\u001b[0m\u001b[0m\n\u001b[1;32m-> 3848\u001b[1;33m                 \u001b[0mmapped\u001b[0m \u001b[1;33m=\u001b[0m \u001b[0mlib\u001b[0m\u001b[1;33m.\u001b[0m\u001b[0mmap_infer\u001b[0m\u001b[1;33m(\u001b[0m\u001b[0mvalues\u001b[0m\u001b[1;33m,\u001b[0m \u001b[0mf\u001b[0m\u001b[1;33m,\u001b[0m \u001b[0mconvert\u001b[0m\u001b[1;33m=\u001b[0m\u001b[0mconvert_dtype\u001b[0m\u001b[1;33m)\u001b[0m\u001b[1;33m\u001b[0m\u001b[1;33m\u001b[0m\u001b[0m\n\u001b[0m\u001b[0;32m   3849\u001b[0m \u001b[1;33m\u001b[0m\u001b[0m\n\u001b[0;32m   3850\u001b[0m         \u001b[1;32mif\u001b[0m \u001b[0mlen\u001b[0m\u001b[1;33m(\u001b[0m\u001b[0mmapped\u001b[0m\u001b[1;33m)\u001b[0m \u001b[1;32mand\u001b[0m \u001b[0misinstance\u001b[0m\u001b[1;33m(\u001b[0m\u001b[0mmapped\u001b[0m\u001b[1;33m[\u001b[0m\u001b[1;36m0\u001b[0m\u001b[1;33m]\u001b[0m\u001b[1;33m,\u001b[0m \u001b[0mSeries\u001b[0m\u001b[1;33m)\u001b[0m\u001b[1;33m:\u001b[0m\u001b[1;33m\u001b[0m\u001b[1;33m\u001b[0m\u001b[0m\n",
      "\u001b[1;32mpandas\\_libs\\lib.pyx\u001b[0m in \u001b[0;36mpandas._libs.lib.map_infer\u001b[1;34m()\u001b[0m\n",
      "\u001b[1;32m<ipython-input-8-020e2ddf802b>\u001b[0m in \u001b[0;36mremove_punctuations\u001b[1;34m(text)\u001b[0m\n\u001b[0;32m      1\u001b[0m \u001b[1;32mdef\u001b[0m \u001b[0mremove_punctuations\u001b[0m\u001b[1;33m(\u001b[0m\u001b[0mtext\u001b[0m\u001b[1;33m)\u001b[0m\u001b[1;33m:\u001b[0m\u001b[1;33m\u001b[0m\u001b[1;33m\u001b[0m\u001b[0m\n\u001b[1;32m----> 2\u001b[1;33m     \u001b[1;32mfor\u001b[0m \u001b[0mpunctuation\u001b[0m \u001b[1;32min\u001b[0m \u001b[0mstring\u001b[0m\u001b[1;33m.\u001b[0m\u001b[0mpunctuation\u001b[0m\u001b[1;33m:\u001b[0m\u001b[1;33m\u001b[0m\u001b[1;33m\u001b[0m\u001b[0m\n\u001b[0m\u001b[0;32m      3\u001b[0m         \u001b[0mtext\u001b[0m \u001b[1;33m=\u001b[0m \u001b[0mtext\u001b[0m\u001b[1;33m.\u001b[0m\u001b[0mreplace\u001b[0m\u001b[1;33m(\u001b[0m\u001b[0mpunctuation\u001b[0m\u001b[1;33m,\u001b[0m \u001b[1;34m''\u001b[0m\u001b[1;33m)\u001b[0m\u001b[1;33m\u001b[0m\u001b[1;33m\u001b[0m\u001b[0m\n\u001b[0;32m      4\u001b[0m     \u001b[1;32mreturn\u001b[0m \u001b[0mtext\u001b[0m\u001b[1;33m\u001b[0m\u001b[1;33m\u001b[0m\u001b[0m\n",
      "\u001b[1;31mNameError\u001b[0m: name 'string' is not defined"
     ]
    }
   ],
   "source": [
    "df[\"DESCRIPTION\"] = df['DESCRIPTION'].apply(remove_punctuations)"
   ]
  },
  {
   "cell_type": "code",
   "execution_count": 34,
   "metadata": {},
   "outputs": [],
   "source": [
    "df = df.applymap(lambda s: s.lower() if type(s) == str else s)"
   ]
  },
  {
   "cell_type": "code",
   "execution_count": 36,
   "metadata": {},
   "outputs": [],
   "source": [
    "df[\"DESCRIPTION\"] = df['DESCRIPTION'].str.replace('[^\\w\\s]','')\n",
    "df[\"TITLE\"] = df['TITLE'].str.replace('[^\\w\\s]','')\n",
    "df[\"BULLET_POINTS\"] = df['BULLET_POINTS'].str.replace('[^\\w\\s]','')\n",
    "df[\"BULLET_POINTS\"] = df['BULLET_POINTS'].str.replace('[^\\w\\s]','')"
   ]
  },
  {
   "cell_type": "code",
   "execution_count": 37,
   "metadata": {},
   "outputs": [
    {
     "data": {
      "text/html": [
       "<div>\n",
       "<style scoped>\n",
       "    .dataframe tbody tr th:only-of-type {\n",
       "        vertical-align: middle;\n",
       "    }\n",
       "\n",
       "    .dataframe tbody tr th {\n",
       "        vertical-align: top;\n",
       "    }\n",
       "\n",
       "    .dataframe thead th {\n",
       "        text-align: right;\n",
       "    }\n",
       "</style>\n",
       "<table border=\"1\" class=\"dataframe\">\n",
       "  <thead>\n",
       "    <tr style=\"text-align: right;\">\n",
       "      <th></th>\n",
       "      <th>TITLE</th>\n",
       "      <th>DESCRIPTION</th>\n",
       "      <th>BULLET_POINTS</th>\n",
       "      <th>BRAND</th>\n",
       "      <th>BROWSE_NODE_ID</th>\n",
       "    </tr>\n",
       "  </thead>\n",
       "  <tbody>\n",
       "    <tr>\n",
       "      <th>0</th>\n",
       "      <td>pete the cat bedtime blues doll 145 inch</td>\n",
       "      <td>pete the cat is the coolest most popular cat i...</td>\n",
       "      <td>pete the cat bedtime blues plush dollbased on ...</td>\n",
       "      <td>merrymakers</td>\n",
       "      <td>0</td>\n",
       "    </tr>\n",
       "    <tr>\n",
       "      <th>1</th>\n",
       "      <td>the new yorker nyhm014 refrigerator magnet 2 x 35</td>\n",
       "      <td>the new yorker handsome cello wrapped hard mag...</td>\n",
       "      <td>cat in a tea cup by new yorker cover artist gu...</td>\n",
       "      <td>the new yorker</td>\n",
       "      <td>1</td>\n",
       "    </tr>\n",
       "    <tr>\n",
       "      <th>5</th>\n",
       "      <td>mens full sleeve raglan tshirts denim tshirt m...</td>\n",
       "      <td>mens full sleeve raglan tshirts denim tshirt m...</td>\n",
       "      <td>color bluesleeve full sleevematerial cottonnec...</td>\n",
       "      <td>bhavya enterprise</td>\n",
       "      <td>5</td>\n",
       "    </tr>\n",
       "    <tr>\n",
       "      <th>6</th>\n",
       "      <td>glance womens wallet black lw21</td>\n",
       "      <td>this black wallet by glance will be a treasure...</td>\n",
       "      <td>the most comfortable womens wallet that you wo...</td>\n",
       "      <td>glance</td>\n",
       "      <td>6</td>\n",
       "    </tr>\n",
       "    <tr>\n",
       "      <th>7</th>\n",
       "      <td>wild animals hungry brain educational flash ca...</td>\n",
       "      <td>wild animals are the animals that mostly stays...</td>\n",
       "      <td>playful learning flash cards develops the love...</td>\n",
       "      <td>hungry brain</td>\n",
       "      <td>7</td>\n",
       "    </tr>\n",
       "  </tbody>\n",
       "</table>\n",
       "</div>"
      ],
      "text/plain": [
       "                                               TITLE  \\\n",
       "0           pete the cat bedtime blues doll 145 inch   \n",
       "1  the new yorker nyhm014 refrigerator magnet 2 x 35   \n",
       "5  mens full sleeve raglan tshirts denim tshirt m...   \n",
       "6                    glance womens wallet black lw21   \n",
       "7  wild animals hungry brain educational flash ca...   \n",
       "\n",
       "                                         DESCRIPTION  \\\n",
       "0  pete the cat is the coolest most popular cat i...   \n",
       "1  the new yorker handsome cello wrapped hard mag...   \n",
       "5  mens full sleeve raglan tshirts denim tshirt m...   \n",
       "6  this black wallet by glance will be a treasure...   \n",
       "7  wild animals are the animals that mostly stays...   \n",
       "\n",
       "                                       BULLET_POINTS              BRAND  \\\n",
       "0  pete the cat bedtime blues plush dollbased on ...        merrymakers   \n",
       "1  cat in a tea cup by new yorker cover artist gu...     the new yorker   \n",
       "5  color bluesleeve full sleevematerial cottonnec...  bhavya enterprise   \n",
       "6  the most comfortable womens wallet that you wo...             glance   \n",
       "7  playful learning flash cards develops the love...       hungry brain   \n",
       "\n",
       "   BROWSE_NODE_ID  \n",
       "0               0  \n",
       "1               1  \n",
       "5               5  \n",
       "6               6  \n",
       "7               7  "
      ]
     },
     "execution_count": 37,
     "metadata": {},
     "output_type": "execute_result"
    }
   ],
   "source": [
    "df.head()"
   ]
  },
  {
   "cell_type": "code",
   "execution_count": 45,
   "metadata": {},
   "outputs": [],
   "source": [
    "df['TITLE'] = df['TITLE'].apply(str)"
   ]
  },
  {
   "cell_type": "code",
   "execution_count": 46,
   "metadata": {},
   "outputs": [
    {
     "data": {
      "text/html": [
       "<div>\n",
       "<style scoped>\n",
       "    .dataframe tbody tr th:only-of-type {\n",
       "        vertical-align: middle;\n",
       "    }\n",
       "\n",
       "    .dataframe tbody tr th {\n",
       "        vertical-align: top;\n",
       "    }\n",
       "\n",
       "    .dataframe thead th {\n",
       "        text-align: right;\n",
       "    }\n",
       "</style>\n",
       "<table border=\"1\" class=\"dataframe\">\n",
       "  <thead>\n",
       "    <tr style=\"text-align: right;\">\n",
       "      <th></th>\n",
       "      <th>TITLE</th>\n",
       "      <th>DESCRIPTION</th>\n",
       "      <th>BULLET_POINTS</th>\n",
       "      <th>BRAND</th>\n",
       "      <th>BROWSE_NODE_ID</th>\n",
       "    </tr>\n",
       "  </thead>\n",
       "  <tbody>\n",
       "    <tr>\n",
       "      <th>0</th>\n",
       "      <td>pete the cat bedtime blues doll 145 inch</td>\n",
       "      <td>pete the cat is the coolest most popular cat i...</td>\n",
       "      <td>pete the cat bedtime blues plush dollbased on ...</td>\n",
       "      <td>merrymakers</td>\n",
       "      <td>0</td>\n",
       "    </tr>\n",
       "    <tr>\n",
       "      <th>1</th>\n",
       "      <td>the new yorker nyhm014 refrigerator magnet 2 x 35</td>\n",
       "      <td>the new yorker handsome cello wrapped hard mag...</td>\n",
       "      <td>cat in a tea cup by new yorker cover artist gu...</td>\n",
       "      <td>the new yorker</td>\n",
       "      <td>1</td>\n",
       "    </tr>\n",
       "    <tr>\n",
       "      <th>5</th>\n",
       "      <td>mens full sleeve raglan tshirts denim tshirt m...</td>\n",
       "      <td>mens full sleeve raglan tshirts denim tshirt m...</td>\n",
       "      <td>color bluesleeve full sleevematerial cottonnec...</td>\n",
       "      <td>bhavya enterprise</td>\n",
       "      <td>5</td>\n",
       "    </tr>\n",
       "    <tr>\n",
       "      <th>6</th>\n",
       "      <td>glance womens wallet black lw21</td>\n",
       "      <td>this black wallet by glance will be a treasure...</td>\n",
       "      <td>the most comfortable womens wallet that you wo...</td>\n",
       "      <td>glance</td>\n",
       "      <td>6</td>\n",
       "    </tr>\n",
       "    <tr>\n",
       "      <th>7</th>\n",
       "      <td>wild animals hungry brain educational flash ca...</td>\n",
       "      <td>wild animals are the animals that mostly stays...</td>\n",
       "      <td>playful learning flash cards develops the love...</td>\n",
       "      <td>hungry brain</td>\n",
       "      <td>7</td>\n",
       "    </tr>\n",
       "  </tbody>\n",
       "</table>\n",
       "</div>"
      ],
      "text/plain": [
       "                                               TITLE  \\\n",
       "0           pete the cat bedtime blues doll 145 inch   \n",
       "1  the new yorker nyhm014 refrigerator magnet 2 x 35   \n",
       "5  mens full sleeve raglan tshirts denim tshirt m...   \n",
       "6                    glance womens wallet black lw21   \n",
       "7  wild animals hungry brain educational flash ca...   \n",
       "\n",
       "                                         DESCRIPTION  \\\n",
       "0  pete the cat is the coolest most popular cat i...   \n",
       "1  the new yorker handsome cello wrapped hard mag...   \n",
       "5  mens full sleeve raglan tshirts denim tshirt m...   \n",
       "6  this black wallet by glance will be a treasure...   \n",
       "7  wild animals are the animals that mostly stays...   \n",
       "\n",
       "                                       BULLET_POINTS              BRAND  \\\n",
       "0  pete the cat bedtime blues plush dollbased on ...        merrymakers   \n",
       "1  cat in a tea cup by new yorker cover artist gu...     the new yorker   \n",
       "5  color bluesleeve full sleevematerial cottonnec...  bhavya enterprise   \n",
       "6  the most comfortable womens wallet that you wo...             glance   \n",
       "7  playful learning flash cards develops the love...       hungry brain   \n",
       "\n",
       "   BROWSE_NODE_ID  \n",
       "0               0  \n",
       "1               1  \n",
       "5               5  \n",
       "6               6  \n",
       "7               7  "
      ]
     },
     "execution_count": 46,
     "metadata": {},
     "output_type": "execute_result"
    }
   ],
   "source": [
    "df.head() "
   ]
  },
  {
   "cell_type": "code",
   "execution_count": 50,
   "metadata": {},
   "outputs": [
    {
     "ename": "TypeError",
     "evalue": "expected string or bytes-like object",
     "output_type": "error",
     "traceback": [
      "\u001b[1;31m---------------------------------------------------------------------------\u001b[0m",
      "\u001b[1;31mTypeError\u001b[0m                                 Traceback (most recent call last)",
      "\u001b[1;32m<ipython-input-50-e305e299c3d8>\u001b[0m in \u001b[0;36m<module>\u001b[1;34m\u001b[0m\n\u001b[0;32m      5\u001b[0m     \u001b[1;32mreturn\u001b[0m \u001b[0mwithout_number\u001b[0m\u001b[1;33m\u001b[0m\u001b[1;33m\u001b[0m\u001b[0m\n\u001b[0;32m      6\u001b[0m \u001b[1;33m\u001b[0m\u001b[0m\n\u001b[1;32m----> 7\u001b[1;33m \u001b[0mnumbers_result\u001b[0m \u001b[1;33m=\u001b[0m \u001b[0mremove_numbers\u001b[0m\u001b[1;33m(\u001b[0m\u001b[0mdf\u001b[0m\u001b[1;33m)\u001b[0m\u001b[1;33m\u001b[0m\u001b[1;33m\u001b[0m\u001b[0m\n\u001b[0m",
      "\u001b[1;32m<ipython-input-50-e305e299c3d8>\u001b[0m in \u001b[0;36mremove_numbers\u001b[1;34m(text)\u001b[0m\n\u001b[0;32m      2\u001b[0m \u001b[1;32mdef\u001b[0m \u001b[0mremove_numbers\u001b[0m\u001b[1;33m(\u001b[0m\u001b[0mtext\u001b[0m\u001b[1;33m)\u001b[0m\u001b[1;33m:\u001b[0m\u001b[1;33m\u001b[0m\u001b[1;33m\u001b[0m\u001b[0m\n\u001b[0;32m      3\u001b[0m     \u001b[0mnumber_pattern\u001b[0m \u001b[1;33m=\u001b[0m \u001b[1;34mr'\\d+'\u001b[0m\u001b[1;33m\u001b[0m\u001b[1;33m\u001b[0m\u001b[0m\n\u001b[1;32m----> 4\u001b[1;33m     \u001b[0mwithout_number\u001b[0m \u001b[1;33m=\u001b[0m \u001b[0mre\u001b[0m\u001b[1;33m.\u001b[0m\u001b[0msub\u001b[0m\u001b[1;33m(\u001b[0m\u001b[0mpattern\u001b[0m\u001b[1;33m=\u001b[0m\u001b[0mnumber_pattern\u001b[0m\u001b[1;33m,\u001b[0m \u001b[0mrepl\u001b[0m\u001b[1;33m=\u001b[0m\u001b[1;34m\" \"\u001b[0m\u001b[1;33m,\u001b[0m \u001b[0mstring\u001b[0m\u001b[1;33m=\u001b[0m\u001b[0mtext\u001b[0m\u001b[1;33m)\u001b[0m\u001b[1;33m\u001b[0m\u001b[1;33m\u001b[0m\u001b[0m\n\u001b[0m\u001b[0;32m      5\u001b[0m     \u001b[1;32mreturn\u001b[0m \u001b[0mwithout_number\u001b[0m\u001b[1;33m\u001b[0m\u001b[1;33m\u001b[0m\u001b[0m\n\u001b[0;32m      6\u001b[0m \u001b[1;33m\u001b[0m\u001b[0m\n",
      "\u001b[1;32m~\\anaconda3\\lib\\re.py\u001b[0m in \u001b[0;36msub\u001b[1;34m(pattern, repl, string, count, flags)\u001b[0m\n\u001b[0;32m    190\u001b[0m     \u001b[0ma\u001b[0m \u001b[0mcallable\u001b[0m\u001b[1;33m,\u001b[0m \u001b[0mit\u001b[0m\u001b[0;31m'\u001b[0m\u001b[0ms\u001b[0m \u001b[0mpassed\u001b[0m \u001b[0mthe\u001b[0m \u001b[0mMatch\u001b[0m \u001b[0mobject\u001b[0m \u001b[1;32mand\u001b[0m \u001b[0mmust\u001b[0m \u001b[1;32mreturn\u001b[0m\u001b[1;33m\u001b[0m\u001b[1;33m\u001b[0m\u001b[0m\n\u001b[0;32m    191\u001b[0m     a replacement string to be used.\"\"\"\n\u001b[1;32m--> 192\u001b[1;33m     \u001b[1;32mreturn\u001b[0m \u001b[0m_compile\u001b[0m\u001b[1;33m(\u001b[0m\u001b[0mpattern\u001b[0m\u001b[1;33m,\u001b[0m \u001b[0mflags\u001b[0m\u001b[1;33m)\u001b[0m\u001b[1;33m.\u001b[0m\u001b[0msub\u001b[0m\u001b[1;33m(\u001b[0m\u001b[0mrepl\u001b[0m\u001b[1;33m,\u001b[0m \u001b[0mstring\u001b[0m\u001b[1;33m,\u001b[0m \u001b[0mcount\u001b[0m\u001b[1;33m)\u001b[0m\u001b[1;33m\u001b[0m\u001b[1;33m\u001b[0m\u001b[0m\n\u001b[0m\u001b[0;32m    193\u001b[0m \u001b[1;33m\u001b[0m\u001b[0m\n\u001b[0;32m    194\u001b[0m \u001b[1;32mdef\u001b[0m \u001b[0msubn\u001b[0m\u001b[1;33m(\u001b[0m\u001b[0mpattern\u001b[0m\u001b[1;33m,\u001b[0m \u001b[0mrepl\u001b[0m\u001b[1;33m,\u001b[0m \u001b[0mstring\u001b[0m\u001b[1;33m,\u001b[0m \u001b[0mcount\u001b[0m\u001b[1;33m=\u001b[0m\u001b[1;36m0\u001b[0m\u001b[1;33m,\u001b[0m \u001b[0mflags\u001b[0m\u001b[1;33m=\u001b[0m\u001b[1;36m0\u001b[0m\u001b[1;33m)\u001b[0m\u001b[1;33m:\u001b[0m\u001b[1;33m\u001b[0m\u001b[1;33m\u001b[0m\u001b[0m\n",
      "\u001b[1;31mTypeError\u001b[0m: expected string or bytes-like object"
     ]
    }
   ],
   "source": [
    "import re\n",
    "def remove_numbers(text):\n",
    "    number_pattern = r'\\d+'\n",
    "    without_number = re.sub(pattern=number_pattern, repl=\" \", string=text)\n",
    "    return without_number\n",
    "\n",
    "numbers_result = remove_numbers(df)"
   ]
  },
  {
   "cell_type": "code",
   "execution_count": 55,
   "metadata": {},
   "outputs": [],
   "source": [
    "def standardize(df,text_field):\n",
    "    df[text_field]= df[text_field].str.replace(r\"http\\S+\",\" \")\n",
    "    df[text_field]= df[text_field].str.replace(r\"http\",\" \")\n",
    "    df[text_field]= df[text_field].str.replace(r\"@\\S+\",\" \")\n",
    "    df[text_field]= df[text_field].str.replace(r\"@\",\"at\")\n",
    "    df[text_field]= df[text_field].str.replace(r\"[^A-Za-z0-9(),!?@\\'\\`\\\"\\_\\n]\",\" \")\n",
    "    return df"
   ]
  },
  {
   "cell_type": "code",
   "execution_count": 57,
   "metadata": {},
   "outputs": [],
   "source": [
    "df= standardize(df, \"TITLE\")\n",
    "df= standardize(df, \"DESCRIPTION\")\n",
    "df= standardize(df, \"BULLET_POINTS\")\n",
    "df= standardize(df, \"BRAND\")"
   ]
  },
  {
   "cell_type": "code",
   "execution_count": 60,
   "metadata": {},
   "outputs": [
    {
     "data": {
      "text/html": [
       "<div>\n",
       "<style scoped>\n",
       "    .dataframe tbody tr th:only-of-type {\n",
       "        vertical-align: middle;\n",
       "    }\n",
       "\n",
       "    .dataframe tbody tr th {\n",
       "        vertical-align: top;\n",
       "    }\n",
       "\n",
       "    .dataframe thead th {\n",
       "        text-align: right;\n",
       "    }\n",
       "</style>\n",
       "<table border=\"1\" class=\"dataframe\">\n",
       "  <thead>\n",
       "    <tr style=\"text-align: right;\">\n",
       "      <th></th>\n",
       "      <th>TITLE</th>\n",
       "      <th>DESCRIPTION</th>\n",
       "      <th>BULLET_POINTS</th>\n",
       "      <th>BRAND</th>\n",
       "      <th>BROWSE_NODE_ID</th>\n",
       "    </tr>\n",
       "  </thead>\n",
       "  <tbody>\n",
       "    <tr>\n",
       "      <th>192720</th>\n",
       "      <td>ideal fully automatic 4g speed agarbatti makin...</td>\n",
       "      <td>high quality products from ideal corporation</td>\n",
       "      <td>high performancedurableinternational standards</td>\n",
       "      <td>ideal</td>\n",
       "      <td>192720</td>\n",
       "    </tr>\n",
       "    <tr>\n",
       "      <th>2088182</th>\n",
       "      <td>krossstitch full sleeve solid mens washed blue...</td>\n",
       "      <td>denim jacket is a popular type of casual appar...</td>\n",
       "      <td>startup india the dream of dressing our nation...</td>\n",
       "      <td>krossstitch</td>\n",
       "      <td>890</td>\n",
       "    </tr>\n",
       "    <tr>\n",
       "      <th>1082777</th>\n",
       "      <td>bamberri 44 mm watch strap metal watch band st...</td>\n",
       "      <td>security stainless steel band comes with iwatc...</td>\n",
       "      <td>stainless steel mesh with adjustable milanese ...</td>\n",
       "      <td>bamberri</td>\n",
       "      <td>507</td>\n",
       "    </tr>\n",
       "    <tr>\n",
       "      <th>1868257</th>\n",
       "      <td>official icc international cricket council fle...</td>\n",
       "      <td>all our products are made with best fabrics to...</td>\n",
       "      <td>micro fibre fleece for a soft finish  extra fa...</td>\n",
       "      <td>generic</td>\n",
       "      <td>890</td>\n",
       "    </tr>\n",
       "    <tr>\n",
       "      <th>2586736</th>\n",
       "      <td>disney minnie mouse star shape keyring teether</td>\n",
       "      <td>filled with pure water teether can be chilled ...</td>\n",
       "      <td>filled with pure water teether can be chilled ...</td>\n",
       "      <td>disney</td>\n",
       "      <td>1292</td>\n",
       "    </tr>\n",
       "    <tr>\n",
       "      <th>1470144</th>\n",
       "      <td>generic computer hard drive ddd caddy tray for...</td>\n",
       "      <td>condition new a brandnew unused unopened undam...</td>\n",
       "      <td>country of manufacture china brand otherprice ...</td>\n",
       "      <td>generic</td>\n",
       "      <td>280</td>\n",
       "    </tr>\n",
       "    <tr>\n",
       "      <th>2353015</th>\n",
       "      <td>kitchen scissor multi color design no 309</td>\n",
       "      <td>1high quality 3 in 1 scissor for your daily ki...</td>\n",
       "      <td>sharp edgesconfortable gripstylish lookeasy to...</td>\n",
       "      <td>tim hawk</td>\n",
       "      <td>5924</td>\n",
       "    </tr>\n",
       "    <tr>\n",
       "      <th>1782522</th>\n",
       "      <td>etechnic printed designer silicon back cover f...</td>\n",
       "      <td>bbnow customize your phone cases with etechnic...</td>\n",
       "      <td>designer case  beautiful design elegant appear...</td>\n",
       "      <td>etechnic</td>\n",
       "      <td>1045</td>\n",
       "    </tr>\n",
       "    <tr>\n",
       "      <th>2481619</th>\n",
       "      <td>dinoshu womens casual comfortable fashion sand...</td>\n",
       "      <td>enhance your look with shoes from kabir bambha...</td>\n",
       "      <td>casualstylishbest for occasionsdurablehighly c...</td>\n",
       "      <td>dino shu</td>\n",
       "      <td>1186</td>\n",
       "    </tr>\n",
       "    <tr>\n",
       "      <th>286612</th>\n",
       "      <td>tucute kids printed cotton shirt for boys beig...</td>\n",
       "      <td>make your kid look super trendy and cool as yo...</td>\n",
       "      <td>care instructions hand washmaterial cotton</td>\n",
       "      <td>tucute</td>\n",
       "      <td>1318</td>\n",
       "    </tr>\n",
       "  </tbody>\n",
       "</table>\n",
       "</div>"
      ],
      "text/plain": [
       "                                                     TITLE  \\\n",
       "192720   ideal fully automatic 4g speed agarbatti makin...   \n",
       "2088182  krossstitch full sleeve solid mens washed blue...   \n",
       "1082777  bamberri 44 mm watch strap metal watch band st...   \n",
       "1868257  official icc international cricket council fle...   \n",
       "2586736     disney minnie mouse star shape keyring teether   \n",
       "1470144  generic computer hard drive ddd caddy tray for...   \n",
       "2353015          kitchen scissor multi color design no 309   \n",
       "1782522  etechnic printed designer silicon back cover f...   \n",
       "2481619  dinoshu womens casual comfortable fashion sand...   \n",
       "286612   tucute kids printed cotton shirt for boys beig...   \n",
       "\n",
       "                                               DESCRIPTION  \\\n",
       "192720        high quality products from ideal corporation   \n",
       "2088182  denim jacket is a popular type of casual appar...   \n",
       "1082777  security stainless steel band comes with iwatc...   \n",
       "1868257  all our products are made with best fabrics to...   \n",
       "2586736  filled with pure water teether can be chilled ...   \n",
       "1470144  condition new a brandnew unused unopened undam...   \n",
       "2353015  1high quality 3 in 1 scissor for your daily ki...   \n",
       "1782522  bbnow customize your phone cases with etechnic...   \n",
       "2481619  enhance your look with shoes from kabir bambha...   \n",
       "286612   make your kid look super trendy and cool as yo...   \n",
       "\n",
       "                                             BULLET_POINTS        BRAND  \\\n",
       "192720      high performancedurableinternational standards        ideal   \n",
       "2088182  startup india the dream of dressing our nation...  krossstitch   \n",
       "1082777  stainless steel mesh with adjustable milanese ...     bamberri   \n",
       "1868257  micro fibre fleece for a soft finish  extra fa...      generic   \n",
       "2586736  filled with pure water teether can be chilled ...       disney   \n",
       "1470144  country of manufacture china brand otherprice ...      generic   \n",
       "2353015  sharp edgesconfortable gripstylish lookeasy to...     tim hawk   \n",
       "1782522  designer case  beautiful design elegant appear...     etechnic   \n",
       "2481619  casualstylishbest for occasionsdurablehighly c...     dino shu   \n",
       "286612          care instructions hand washmaterial cotton       tucute   \n",
       "\n",
       "         BROWSE_NODE_ID  \n",
       "192720           192720  \n",
       "2088182             890  \n",
       "1082777             507  \n",
       "1868257             890  \n",
       "2586736            1292  \n",
       "1470144             280  \n",
       "2353015            5924  \n",
       "1782522            1045  \n",
       "2481619            1186  \n",
       "286612             1318  "
      ]
     },
     "execution_count": 60,
     "metadata": {},
     "output_type": "execute_result"
    }
   ],
   "source": [
    "df.sample(10)"
   ]
  },
  {
   "cell_type": "code",
   "execution_count": 52,
   "metadata": {},
   "outputs": [
    {
     "ename": "ModuleNotFoundError",
     "evalue": "No module named 'inflect'",
     "output_type": "error",
     "traceback": [
      "\u001b[1;31m---------------------------------------------------------------------------\u001b[0m",
      "\u001b[1;31mModuleNotFoundError\u001b[0m                       Traceback (most recent call last)",
      "\u001b[1;32m<ipython-input-52-aa00b3c884b0>\u001b[0m in \u001b[0;36m<module>\u001b[1;34m\u001b[0m\n\u001b[1;32m----> 1\u001b[1;33m \u001b[1;32mimport\u001b[0m \u001b[0minflect\u001b[0m\u001b[1;33m\u001b[0m\u001b[1;33m\u001b[0m\u001b[0m\n\u001b[0m\u001b[0;32m      2\u001b[0m \u001b[0mp\u001b[0m \u001b[1;33m=\u001b[0m \u001b[0minflect\u001b[0m\u001b[1;33m.\u001b[0m\u001b[0mengine\u001b[0m\u001b[1;33m(\u001b[0m\u001b[1;33m)\u001b[0m\u001b[1;33m\u001b[0m\u001b[1;33m\u001b[0m\u001b[0m\n\u001b[0;32m      3\u001b[0m \u001b[0mdf\u001b[0m\u001b[1;33m.\u001b[0m\u001b[0miloc\u001b[0m\u001b[1;33m[\u001b[0m\u001b[1;33m:\u001b[0m\u001b[1;33m,\u001b[0m\u001b[1;36m3\u001b[0m\u001b[1;33m]\u001b[0m\u001b[1;33m.\u001b[0m\u001b[0mastype\u001b[0m\u001b[1;33m(\u001b[0m\u001b[0mstr\u001b[0m\u001b[1;33m)\u001b[0m\u001b[1;33m.\u001b[0m\u001b[0mapply\u001b[0m\u001b[1;33m(\u001b[0m\u001b[1;32mlambda\u001b[0m \u001b[0mrow\u001b[0m\u001b[1;33m:\u001b[0m \u001b[0mre\u001b[0m\u001b[1;33m.\u001b[0m\u001b[0msub\u001b[0m\u001b[1;33m(\u001b[0m\u001b[1;34mr'(?<!\\S)\\d+(?!\\S)'\u001b[0m\u001b[1;33m,\u001b[0m \u001b[1;32mlambda\u001b[0m \u001b[0mx\u001b[0m\u001b[1;33m:\u001b[0m \u001b[0mp\u001b[0m\u001b[1;33m.\u001b[0m\u001b[0mnumber_to_words\u001b[0m\u001b[1;33m(\u001b[0m\u001b[0mx\u001b[0m\u001b[1;33m.\u001b[0m\u001b[0mgroup\u001b[0m\u001b[1;33m(\u001b[0m\u001b[1;33m)\u001b[0m\u001b[1;33m)\u001b[0m\u001b[1;33m,\u001b[0m \u001b[0mrow\u001b[0m\u001b[1;33m)\u001b[0m\u001b[1;33m)\u001b[0m\u001b[1;33m\u001b[0m\u001b[1;33m\u001b[0m\u001b[0m\n",
      "\u001b[1;31mModuleNotFoundError\u001b[0m: No module named 'inflect'"
     ]
    }
   ],
   "source": [
    "import inflect\n",
    "p = inflect.engine()\n",
    "df.iloc[:,3].astype(str).apply(lambda row: re.sub(r'(?<!\\S)\\d+(?!\\S)', lambda x: p.number_to_words(x.group()), row))"
   ]
  },
  {
   "cell_type": "code",
   "execution_count": 1,
   "metadata": {},
   "outputs": [
    {
     "ename": "NameError",
     "evalue": "name 'df' is not defined",
     "output_type": "error",
     "traceback": [
      "\u001b[1;31m---------------------------------------------------------------------------\u001b[0m",
      "\u001b[1;31mNameError\u001b[0m                                 Traceback (most recent call last)",
      "\u001b[1;32m<ipython-input-1-a6760e6b862d>\u001b[0m in \u001b[0;36m<module>\u001b[1;34m\u001b[0m\n\u001b[1;32m----> 1\u001b[1;33m \u001b[0mdf\u001b[0m\u001b[1;33m.\u001b[0m\u001b[0mto_cvs\u001b[0m\u001b[1;33m(\u001b[0m\u001b[1;34m\"clearn_data.csv\"\u001b[0m\u001b[1;33m)\u001b[0m\u001b[1;33m\u001b[0m\u001b[1;33m\u001b[0m\u001b[0m\n\u001b[0m",
      "\u001b[1;31mNameError\u001b[0m: name 'df' is not defined"
     ]
    }
   ],
   "source": [
    "df.to_cvs(\"clearn_data.csv\")"
   ]
  },
  {
   "cell_type": "code",
   "execution_count": null,
   "metadata": {},
   "outputs": [],
   "source": []
  }
 ],
 "metadata": {
  "kernelspec": {
   "display_name": "Python 3",
   "language": "python",
   "name": "python3"
  },
  "language_info": {
   "codemirror_mode": {
    "name": "ipython",
    "version": 3
   },
   "file_extension": ".py",
   "mimetype": "text/x-python",
   "name": "python",
   "nbconvert_exporter": "python",
   "pygments_lexer": "ipython3",
   "version": "3.7.6"
  }
 },
 "nbformat": 4,
 "nbformat_minor": 4
}
